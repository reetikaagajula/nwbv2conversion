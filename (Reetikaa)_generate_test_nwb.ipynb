{
  "nbformat": 4,
  "nbformat_minor": 0,
  "metadata": {
    "kernelspec": {
      "display_name": "Python 3",
      "language": "python",
      "name": "python3"
    },
    "language_info": {
      "codemirror_mode": {
        "name": "ipython",
        "version": 3
      },
      "file_extension": ".py",
      "mimetype": "text/x-python",
      "name": "python",
      "nbconvert_exporter": "python",
      "pygments_lexer": "ipython3",
      "version": "3.8.10"
    },
    "colab": {
      "name": "(Reetikaa) generate_test_nwb.ipynb",
      "provenance": [],
      "include_colab_link": true
    }
  },
  "cells": [
    {
      "cell_type": "markdown",
      "metadata": {
        "id": "view-in-github",
        "colab_type": "text"
      },
      "source": [
        "<a href=\"https://colab.research.google.com/github/reetikaagajula/nwbv2conversion/blob/main/(Reetikaa)_generate_test_nwb.ipynb\" target=\"_parent\"><img src=\"https://colab.research.google.com/assets/colab-badge.svg\" alt=\"Open In Colab\"/></a>"
      ]
    },
    {
      "cell_type": "markdown",
      "metadata": {
        "id": "Tdjd4m58Sn_u"
      },
      "source": [
        "# Generate test data for plotting functionalities based on existing dandisets"
      ]
    },
    {
      "cell_type": "markdown",
      "metadata": {
        "id": "a2wFEelKSn_0"
      },
      "source": [
        "## Import modules and define functions"
      ]
    },
    {
      "cell_type": "code",
      "metadata": {
        "id": "iVzZHai3Sn_1",
        "colab": {
          "base_uri": "https://localhost:8080/",
          "height": 1000
        },
        "outputId": "a47e1e86-4fc4-430f-aa08-57c68e9def10"
      },
      "source": [
        "!pip install hdmf\n",
        "!pip install pynwb\n",
        "!pip install nwbwidgets\n",
        "# import modules\n",
        "import hdmf._version\n",
        "import matplotlib.pyplot as plt\n",
        "import numpy as np\n",
        "import platform\n",
        "import pynwb\n",
        "import seaborn as sns\n",
        "import uuid\n",
        "\n",
        "from datetime import datetime\n",
        "from dateutil.tz import tzlocal\n",
        "from nwbwidgets import nwb2widget\n",
        "from pynwb import NWBHDF5IO, NWBFile, TimeSeries\n",
        "from pynwb.ophys import TwoPhotonSeries, OpticalChannel, ImageSegmentation, Fluorescence\n",
        "\n",
        "%matplotlib inline"
      ],
      "execution_count": null,
      "outputs": [
        {
          "output_type": "stream",
          "name": "stdout",
          "text": [
            "Requirement already satisfied: hdmf in /usr/local/lib/python3.7/dist-packages (3.1.1)\n",
            "Requirement already satisfied: pandas<2,>=1.0.5 in /usr/local/lib/python3.7/dist-packages (from hdmf) (1.1.5)\n",
            "Requirement already satisfied: numpy<1.22,>=1.16 in /usr/local/lib/python3.7/dist-packages (from hdmf) (1.19.5)\n",
            "Requirement already satisfied: setuptools in /usr/local/lib/python3.7/dist-packages (from hdmf) (57.4.0)\n",
            "Requirement already satisfied: ruamel.yaml<1,>=0.16 in /usr/local/lib/python3.7/dist-packages (from hdmf) (0.17.17)\n",
            "Requirement already satisfied: h5py<4,>=2.10 in /usr/local/lib/python3.7/dist-packages (from hdmf) (3.1.0)\n",
            "Requirement already satisfied: jsonschema<4,>=2.6.0 in /usr/local/lib/python3.7/dist-packages (from hdmf) (2.6.0)\n",
            "Requirement already satisfied: scipy<2,>=1.1 in /usr/local/lib/python3.7/dist-packages (from hdmf) (1.4.1)\n",
            "Requirement already satisfied: cached-property in /usr/local/lib/python3.7/dist-packages (from h5py<4,>=2.10->hdmf) (1.5.2)\n",
            "Requirement already satisfied: pytz>=2017.2 in /usr/local/lib/python3.7/dist-packages (from pandas<2,>=1.0.5->hdmf) (2018.9)\n",
            "Requirement already satisfied: python-dateutil>=2.7.3 in /usr/local/lib/python3.7/dist-packages (from pandas<2,>=1.0.5->hdmf) (2.8.2)\n",
            "Requirement already satisfied: six>=1.5 in /usr/local/lib/python3.7/dist-packages (from python-dateutil>=2.7.3->pandas<2,>=1.0.5->hdmf) (1.15.0)\n",
            "Requirement already satisfied: ruamel.yaml.clib>=0.1.2 in /usr/local/lib/python3.7/dist-packages (from ruamel.yaml<1,>=0.16->hdmf) (0.2.6)\n",
            "Requirement already satisfied: pynwb in /usr/local/lib/python3.7/dist-packages (2.0.0)\n",
            "Requirement already satisfied: h5py<4,>=2.9 in /usr/local/lib/python3.7/dist-packages (from pynwb) (3.1.0)\n",
            "Requirement already satisfied: numpy<1.22,>=1.16 in /usr/local/lib/python3.7/dist-packages (from pynwb) (1.19.5)\n",
            "Requirement already satisfied: pandas<2,>=1.0.5 in /usr/local/lib/python3.7/dist-packages (from pynwb) (1.1.5)\n",
            "Requirement already satisfied: python-dateutil<3,>=2.7 in /usr/local/lib/python3.7/dist-packages (from pynwb) (2.8.2)\n",
            "Requirement already satisfied: setuptools in /usr/local/lib/python3.7/dist-packages (from pynwb) (57.4.0)\n",
            "Requirement already satisfied: hdmf<4,>=3.1.1 in /usr/local/lib/python3.7/dist-packages (from pynwb) (3.1.1)\n",
            "Requirement already satisfied: cached-property in /usr/local/lib/python3.7/dist-packages (from h5py<4,>=2.9->pynwb) (1.5.2)\n",
            "Requirement already satisfied: scipy<2,>=1.1 in /usr/local/lib/python3.7/dist-packages (from hdmf<4,>=3.1.1->pynwb) (1.4.1)\n",
            "Requirement already satisfied: ruamel.yaml<1,>=0.16 in /usr/local/lib/python3.7/dist-packages (from hdmf<4,>=3.1.1->pynwb) (0.17.17)\n",
            "Requirement already satisfied: jsonschema<4,>=2.6.0 in /usr/local/lib/python3.7/dist-packages (from hdmf<4,>=3.1.1->pynwb) (2.6.0)\n",
            "Requirement already satisfied: pytz>=2017.2 in /usr/local/lib/python3.7/dist-packages (from pandas<2,>=1.0.5->pynwb) (2018.9)\n",
            "Requirement already satisfied: six>=1.5 in /usr/local/lib/python3.7/dist-packages (from python-dateutil<3,>=2.7->pynwb) (1.15.0)\n",
            "Requirement already satisfied: ruamel.yaml.clib>=0.1.2 in /usr/local/lib/python3.7/dist-packages (from ruamel.yaml<1,>=0.16->hdmf<4,>=3.1.1->pynwb) (0.2.6)\n",
            "Collecting nwbwidgets\n",
            "  Downloading nwbwidgets-0.8.0-py3-none-any.whl (60 kB)\n",
            "\u001b[K     |████████████████████████████████| 60 kB 4.7 MB/s \n",
            "\u001b[?25hRequirement already satisfied: scikit-image in /usr/local/lib/python3.7/dist-packages (from nwbwidgets) (0.18.3)\n",
            "Collecting ipympl\n",
            "  Downloading ipympl-0.8.2-py2.py3-none-any.whl (84 kB)\n",
            "\u001b[K     |████████████████████████████████| 84 kB 4.2 MB/s \n",
            "\u001b[?25hRequirement already satisfied: tifffile in /usr/local/lib/python3.7/dist-packages (from nwbwidgets) (2021.11.2)\n",
            "Collecting ndx-grayscalevolume\n",
            "  Downloading ndx_grayscalevolume-0.0.2-py2.py3-none-any.whl (4.1 kB)\n",
            "Requirement already satisfied: tqdm>=4.36.0 in /usr/local/lib/python3.7/dist-packages (from nwbwidgets) (4.62.3)\n",
            "Collecting ipyvolume\n",
            "  Downloading ipyvolume-0.5.2-py2.py3-none-any.whl (2.9 MB)\n",
            "\u001b[K     |████████████████████████████████| 2.9 MB 64.9 MB/s \n",
            "\u001b[?25hRequirement already satisfied: pynwb in /usr/local/lib/python3.7/dist-packages (from nwbwidgets) (2.0.0)\n",
            "Requirement already satisfied: numpy in /usr/local/lib/python3.7/dist-packages (from nwbwidgets) (1.19.5)\n",
            "Collecting ccfwidget\n",
            "  Downloading ccfwidget-0.5.3-py3-none-any.whl (9.7 kB)\n",
            "Collecting zarr\n",
            "  Downloading zarr-2.10.3-py3-none-any.whl (146 kB)\n",
            "\u001b[K     |████████████████████████████████| 146 kB 80.9 MB/s \n",
            "\u001b[?25hRequirement already satisfied: plotly in /usr/local/lib/python3.7/dist-packages (from nwbwidgets) (4.4.1)\n",
            "Collecting ndx-icephys-meta\n",
            "  Downloading ndx_icephys_meta-0.1.0-py2.py3-none-any.whl (19 kB)\n",
            "Collecting trimesh\n",
            "  Downloading trimesh-3.9.35-py3-none-any.whl (639 kB)\n",
            "\u001b[K     |████████████████████████████████| 639 kB 53.9 MB/s \n",
            "\u001b[?25hCollecting ndx-spectrum\n",
            "  Downloading ndx_spectrum-0.2.2-py3-none-any.whl (4.3 kB)\n",
            "Requirement already satisfied: matplotlib in /usr/local/lib/python3.7/dist-packages (from nwbwidgets) (3.2.2)\n",
            "Collecting ipysheet\n",
            "  Downloading ipysheet-0.5.0-py2.py3-none-any.whl (3.8 MB)\n",
            "\u001b[K     |████████████████████████████████| 3.8 MB 82.0 MB/s \n",
            "\u001b[?25hRequirement already satisfied: requests in /usr/local/lib/python3.7/dist-packages (from ccfwidget->nwbwidgets) (2.23.0)\n",
            "Collecting ipytree\n",
            "  Downloading ipytree-0.2.1-py2.py3-none-any.whl (1.3 MB)\n",
            "\u001b[K     |████████████████████████████████| 1.3 MB 81.9 MB/s \n",
            "\u001b[?25hRequirement already satisfied: dask in /usr/local/lib/python3.7/dist-packages (from ccfwidget->nwbwidgets) (2.12.0)\n",
            "Requirement already satisfied: xarray in /usr/local/lib/python3.7/dist-packages (from ccfwidget->nwbwidgets) (0.18.2)\n",
            "Collecting fsspec\n",
            "  Downloading fsspec-2021.11.1-py3-none-any.whl (132 kB)\n",
            "\u001b[K     |████████████████████████████████| 132 kB 63.4 MB/s \n",
            "\u001b[?25hCollecting itkwidgets>=0.30.1\n",
            "  Downloading itkwidgets-0.32.1-py2.py3-none-any.whl (3.4 MB)\n",
            "\u001b[K     |████████████████████████████████| 3.4 MB 7.0 MB/s \n",
            "\u001b[?25hRequirement already satisfied: toolz in /usr/local/lib/python3.7/dist-packages (from ccfwidget->nwbwidgets) (0.11.2)\n",
            "Requirement already satisfied: six in /usr/local/lib/python3.7/dist-packages (from itkwidgets>=0.30.1->ccfwidget->nwbwidgets) (1.15.0)\n",
            "Collecting zstandard\n",
            "  Downloading zstandard-0.16.0-cp37-cp37m-manylinux_2_17_x86_64.manylinux2014_x86_64.whl (2.9 MB)\n",
            "\u001b[K     |████████████████████████████████| 2.9 MB 57.0 MB/s \n",
            "\u001b[?25hRequirement already satisfied: ipywidgets>=7.5.1 in /usr/local/lib/python3.7/dist-packages (from itkwidgets>=0.30.1->ccfwidget->nwbwidgets) (7.6.5)\n",
            "Collecting itk-filtering>=5.2.0.post2\n",
            "  Downloading itk_filtering-5.2.1.post1-cp37-cp37m-manylinux_2_17_x86_64.manylinux2014_x86_64.whl (95.3 MB)\n",
            "\u001b[K     |████████████████████████████████| 95.3 MB 38 kB/s \n",
            "\u001b[?25hCollecting ipydatawidgets>=4.0.1\n",
            "  Downloading ipydatawidgets-4.2.0-py2.py3-none-any.whl (275 kB)\n",
            "\u001b[K     |████████████████████████████████| 275 kB 51.6 MB/s \n",
            "\u001b[?25hRequirement already satisfied: colorcet in /usr/local/lib/python3.7/dist-packages (from itkwidgets>=0.30.1->ccfwidget->nwbwidgets) (2.0.6)\n",
            "Collecting itk-meshtopolydata>=0.7.1\n",
            "  Downloading itk_meshtopolydata-0.7.1-cp37-cp37m-manylinux2014_x86_64.whl (861 kB)\n",
            "\u001b[K     |████████████████████████████████| 861 kB 66.9 MB/s \n",
            "\u001b[?25hCollecting itk-core>=5.2.0.post2\n",
            "  Downloading itk_core-5.2.1.post1-cp37-cp37m-manylinux_2_17_x86_64.manylinux2014_x86_64.whl (70.6 MB)\n",
            "\u001b[K     |████████████████████████████████| 70.6 MB 9.4 kB/s \n",
            "\u001b[?25hCollecting traittypes>=0.2.0\n",
            "  Downloading traittypes-0.2.1-py2.py3-none-any.whl (8.6 kB)\n",
            "Requirement already satisfied: ipykernel>=4.7 in /usr/local/lib/python3.7/dist-packages (from ipympl->nwbwidgets) (4.10.1)\n",
            "Requirement already satisfied: jupyter-client in /usr/local/lib/python3.7/dist-packages (from ipykernel>=4.7->ipympl->nwbwidgets) (5.3.5)\n",
            "Requirement already satisfied: ipython>=4.0.0 in /usr/local/lib/python3.7/dist-packages (from ipykernel>=4.7->ipympl->nwbwidgets) (5.5.0)\n",
            "Requirement already satisfied: traitlets>=4.1.0 in /usr/local/lib/python3.7/dist-packages (from ipykernel>=4.7->ipympl->nwbwidgets) (5.1.1)\n",
            "Requirement already satisfied: tornado>=4.0 in /usr/local/lib/python3.7/dist-packages (from ipykernel>=4.7->ipympl->nwbwidgets) (5.1.1)\n",
            "Requirement already satisfied: setuptools>=18.5 in /usr/local/lib/python3.7/dist-packages (from ipython>=4.0.0->ipykernel>=4.7->ipympl->nwbwidgets) (57.4.0)\n",
            "Requirement already satisfied: pexpect in /usr/local/lib/python3.7/dist-packages (from ipython>=4.0.0->ipykernel>=4.7->ipympl->nwbwidgets) (4.8.0)\n",
            "Requirement already satisfied: simplegeneric>0.8 in /usr/local/lib/python3.7/dist-packages (from ipython>=4.0.0->ipykernel>=4.7->ipympl->nwbwidgets) (0.8.1)\n",
            "Requirement already satisfied: pygments in /usr/local/lib/python3.7/dist-packages (from ipython>=4.0.0->ipykernel>=4.7->ipympl->nwbwidgets) (2.6.1)\n",
            "Requirement already satisfied: decorator in /usr/local/lib/python3.7/dist-packages (from ipython>=4.0.0->ipykernel>=4.7->ipympl->nwbwidgets) (4.4.2)\n",
            "Requirement already satisfied: prompt-toolkit<2.0.0,>=1.0.4 in /usr/local/lib/python3.7/dist-packages (from ipython>=4.0.0->ipykernel>=4.7->ipympl->nwbwidgets) (1.0.18)\n",
            "Requirement already satisfied: pickleshare in /usr/local/lib/python3.7/dist-packages (from ipython>=4.0.0->ipykernel>=4.7->ipympl->nwbwidgets) (0.7.5)\n",
            "Requirement already satisfied: nbformat>=4.2.0 in /usr/local/lib/python3.7/dist-packages (from ipywidgets>=7.5.1->itkwidgets>=0.30.1->ccfwidget->nwbwidgets) (5.1.3)\n",
            "Requirement already satisfied: ipython-genutils~=0.2.0 in /usr/local/lib/python3.7/dist-packages (from ipywidgets>=7.5.1->itkwidgets>=0.30.1->ccfwidget->nwbwidgets) (0.2.0)\n",
            "Requirement already satisfied: jupyterlab-widgets>=1.0.0 in /usr/local/lib/python3.7/dist-packages (from ipywidgets>=7.5.1->itkwidgets>=0.30.1->ccfwidget->nwbwidgets) (1.0.2)\n",
            "Requirement already satisfied: widgetsnbextension~=3.5.0 in /usr/local/lib/python3.7/dist-packages (from ipywidgets>=7.5.1->itkwidgets>=0.30.1->ccfwidget->nwbwidgets) (3.5.2)\n",
            "Collecting itk-numerics==5.2.1.post1\n",
            "  Downloading itk_numerics-5.2.1.post1-cp37-cp37m-manylinux_2_17_x86_64.manylinux2014_x86_64.whl (54.5 MB)\n",
            "\u001b[K     |████████████████████████████████| 54.5 MB 1.3 MB/s \n",
            "\u001b[?25hRequirement already satisfied: pyparsing!=2.0.4,!=2.1.2,!=2.1.6,>=2.0.1 in /usr/local/lib/python3.7/dist-packages (from matplotlib->nwbwidgets) (3.0.6)\n",
            "Requirement already satisfied: python-dateutil>=2.1 in /usr/local/lib/python3.7/dist-packages (from matplotlib->nwbwidgets) (2.8.2)\n",
            "Requirement already satisfied: cycler>=0.10 in /usr/local/lib/python3.7/dist-packages (from matplotlib->nwbwidgets) (0.11.0)\n",
            "Requirement already satisfied: kiwisolver>=1.0.1 in /usr/local/lib/python3.7/dist-packages (from matplotlib->nwbwidgets) (1.3.2)\n",
            "Requirement already satisfied: jsonschema!=2.5.0,>=2.4 in /usr/local/lib/python3.7/dist-packages (from nbformat>=4.2.0->ipywidgets>=7.5.1->itkwidgets>=0.30.1->ccfwidget->nwbwidgets) (2.6.0)\n",
            "Requirement already satisfied: jupyter-core in /usr/local/lib/python3.7/dist-packages (from nbformat>=4.2.0->ipywidgets>=7.5.1->itkwidgets>=0.30.1->ccfwidget->nwbwidgets) (4.9.1)\n",
            "Requirement already satisfied: wcwidth in /usr/local/lib/python3.7/dist-packages (from prompt-toolkit<2.0.0,>=1.0.4->ipython>=4.0.0->ipykernel>=4.7->ipympl->nwbwidgets) (0.2.5)\n",
            "Requirement already satisfied: notebook>=4.4.1 in /usr/local/lib/python3.7/dist-packages (from widgetsnbextension~=3.5.0->ipywidgets>=7.5.1->itkwidgets>=0.30.1->ccfwidget->nwbwidgets) (5.3.1)\n",
            "Requirement already satisfied: nbconvert in /usr/local/lib/python3.7/dist-packages (from notebook>=4.4.1->widgetsnbextension~=3.5.0->ipywidgets>=7.5.1->itkwidgets>=0.30.1->ccfwidget->nwbwidgets) (5.6.1)\n",
            "Requirement already satisfied: jinja2 in /usr/local/lib/python3.7/dist-packages (from notebook>=4.4.1->widgetsnbextension~=3.5.0->ipywidgets>=7.5.1->itkwidgets>=0.30.1->ccfwidget->nwbwidgets) (2.11.3)\n",
            "Requirement already satisfied: Send2Trash in /usr/local/lib/python3.7/dist-packages (from notebook>=4.4.1->widgetsnbextension~=3.5.0->ipywidgets>=7.5.1->itkwidgets>=0.30.1->ccfwidget->nwbwidgets) (1.8.0)\n",
            "Requirement already satisfied: terminado>=0.8.1 in /usr/local/lib/python3.7/dist-packages (from notebook>=4.4.1->widgetsnbextension~=3.5.0->ipywidgets>=7.5.1->itkwidgets>=0.30.1->ccfwidget->nwbwidgets) (0.12.1)\n",
            "Requirement already satisfied: pyzmq>=13 in /usr/local/lib/python3.7/dist-packages (from jupyter-client->ipykernel>=4.7->ipympl->nwbwidgets) (22.3.0)\n",
            "Requirement already satisfied: ptyprocess in /usr/local/lib/python3.7/dist-packages (from terminado>=0.8.1->notebook>=4.4.1->widgetsnbextension~=3.5.0->ipywidgets>=7.5.1->itkwidgets>=0.30.1->ccfwidget->nwbwidgets) (0.7.0)\n",
            "Requirement already satisfied: param>=1.7.0 in /usr/local/lib/python3.7/dist-packages (from colorcet->itkwidgets>=0.30.1->ccfwidget->nwbwidgets) (1.12.0)\n",
            "Requirement already satisfied: pyct>=0.4.4 in /usr/local/lib/python3.7/dist-packages (from colorcet->itkwidgets>=0.30.1->ccfwidget->nwbwidgets) (0.4.8)\n",
            "Collecting jupyter-server<2,>=1.6\n",
            "  Downloading jupyter_server-1.12.1-py3-none-any.whl (395 kB)\n",
            "\u001b[K     |████████████████████████████████| 395 kB 50.4 MB/s \n",
            "\u001b[?25hCollecting jupyter-client\n",
            "  Downloading jupyter_client-7.1.0-py3-none-any.whl (129 kB)\n",
            "\u001b[K     |████████████████████████████████| 129 kB 49.2 MB/s \n",
            "\u001b[?25hRequirement already satisfied: argon2-cffi in /usr/local/lib/python3.7/dist-packages (from jupyter-server<2,>=1.6->ipysheet->nwbwidgets) (21.1.0)\n",
            "Collecting websocket-client\n",
            "  Downloading websocket_client-1.2.1-py2.py3-none-any.whl (52 kB)\n",
            "\u001b[K     |████████████████████████████████| 52 kB 827 kB/s \n",
            "\u001b[?25hRequirement already satisfied: prometheus-client in /usr/local/lib/python3.7/dist-packages (from jupyter-server<2,>=1.6->ipysheet->nwbwidgets) (0.12.0)\n",
            "Collecting anyio<4,>=3.1.0\n",
            "  Downloading anyio-3.4.0-py3-none-any.whl (78 kB)\n",
            "\u001b[K     |████████████████████████████████| 78 kB 8.3 MB/s \n",
            "\u001b[?25hCollecting tornado>=4.0\n",
            "  Downloading tornado-6.1-cp37-cp37m-manylinux2010_x86_64.whl (428 kB)\n",
            "\u001b[K     |████████████████████████████████| 428 kB 80.8 MB/s \n",
            "\u001b[?25hRequirement already satisfied: typing-extensions in /usr/local/lib/python3.7/dist-packages (from anyio<4,>=3.1.0->jupyter-server<2,>=1.6->ipysheet->nwbwidgets) (3.10.0.2)\n",
            "Requirement already satisfied: idna>=2.8 in /usr/local/lib/python3.7/dist-packages (from anyio<4,>=3.1.0->jupyter-server<2,>=1.6->ipysheet->nwbwidgets) (2.10)\n",
            "Collecting sniffio>=1.1\n",
            "  Downloading sniffio-1.2.0-py3-none-any.whl (10 kB)\n",
            "Requirement already satisfied: entrypoints in /usr/local/lib/python3.7/dist-packages (from jupyter-client->ipykernel>=4.7->ipympl->nwbwidgets) (0.3)\n",
            "Requirement already satisfied: nest-asyncio>=1.5 in /usr/local/lib/python3.7/dist-packages (from jupyter-client->ipykernel>=4.7->ipympl->nwbwidgets) (1.5.1)\n",
            "Requirement already satisfied: cffi>=1.0.0 in /usr/local/lib/python3.7/dist-packages (from argon2-cffi->jupyter-server<2,>=1.6->ipysheet->nwbwidgets) (1.15.0)\n",
            "Requirement already satisfied: pycparser in /usr/local/lib/python3.7/dist-packages (from cffi>=1.0.0->argon2-cffi->jupyter-server<2,>=1.6->ipysheet->nwbwidgets) (2.21)\n",
            "Collecting pythreejs>=1.0.0\n",
            "  Downloading pythreejs-2.3.0-py2.py3-none-any.whl (3.4 MB)\n",
            "\u001b[K     |████████████████████████████████| 3.4 MB 23.5 MB/s \n",
            "\u001b[?25hCollecting ipywebrtc\n",
            "  Downloading ipywebrtc-0.6.0-py2.py3-none-any.whl (260 kB)\n",
            "\u001b[K     |████████████████████████████████| 260 kB 69.7 MB/s \n",
            "\u001b[?25hRequirement already satisfied: Pillow in /usr/local/lib/python3.7/dist-packages (from ipyvolume->nwbwidgets) (7.1.2)\n",
            "Requirement already satisfied: MarkupSafe>=0.23 in /usr/local/lib/python3.7/dist-packages (from jinja2->notebook>=4.4.1->widgetsnbextension~=3.5.0->ipywidgets>=7.5.1->itkwidgets>=0.30.1->ccfwidget->nwbwidgets) (2.0.1)\n",
            "Requirement already satisfied: pandocfilters>=1.4.1 in /usr/local/lib/python3.7/dist-packages (from nbconvert->notebook>=4.4.1->widgetsnbextension~=3.5.0->ipywidgets>=7.5.1->itkwidgets>=0.30.1->ccfwidget->nwbwidgets) (1.5.0)\n",
            "Requirement already satisfied: mistune<2,>=0.8.1 in /usr/local/lib/python3.7/dist-packages (from nbconvert->notebook>=4.4.1->widgetsnbextension~=3.5.0->ipywidgets>=7.5.1->itkwidgets>=0.30.1->ccfwidget->nwbwidgets) (0.8.4)\n",
            "Requirement already satisfied: defusedxml in /usr/local/lib/python3.7/dist-packages (from nbconvert->notebook>=4.4.1->widgetsnbextension~=3.5.0->ipywidgets>=7.5.1->itkwidgets>=0.30.1->ccfwidget->nwbwidgets) (0.7.1)\n",
            "Requirement already satisfied: bleach in /usr/local/lib/python3.7/dist-packages (from nbconvert->notebook>=4.4.1->widgetsnbextension~=3.5.0->ipywidgets>=7.5.1->itkwidgets>=0.30.1->ccfwidget->nwbwidgets) (4.1.0)\n",
            "Requirement already satisfied: testpath in /usr/local/lib/python3.7/dist-packages (from nbconvert->notebook>=4.4.1->widgetsnbextension~=3.5.0->ipywidgets>=7.5.1->itkwidgets>=0.30.1->ccfwidget->nwbwidgets) (0.5.0)\n",
            "Requirement already satisfied: webencodings in /usr/local/lib/python3.7/dist-packages (from bleach->nbconvert->notebook>=4.4.1->widgetsnbextension~=3.5.0->ipywidgets>=7.5.1->itkwidgets>=0.30.1->ccfwidget->nwbwidgets) (0.5.1)\n",
            "Requirement already satisfied: packaging in /usr/local/lib/python3.7/dist-packages (from bleach->nbconvert->notebook>=4.4.1->widgetsnbextension~=3.5.0->ipywidgets>=7.5.1->itkwidgets>=0.30.1->ccfwidget->nwbwidgets) (21.3)\n",
            "Requirement already satisfied: retrying>=1.3.3 in /usr/local/lib/python3.7/dist-packages (from plotly->nwbwidgets) (1.3.3)\n",
            "Requirement already satisfied: h5py<4,>=2.9 in /usr/local/lib/python3.7/dist-packages (from pynwb->nwbwidgets) (3.1.0)\n",
            "Requirement already satisfied: hdmf<4,>=3.1.1 in /usr/local/lib/python3.7/dist-packages (from pynwb->nwbwidgets) (3.1.1)\n",
            "Requirement already satisfied: pandas<2,>=1.0.5 in /usr/local/lib/python3.7/dist-packages (from pynwb->nwbwidgets) (1.1.5)\n",
            "Requirement already satisfied: cached-property in /usr/local/lib/python3.7/dist-packages (from h5py<4,>=2.9->pynwb->nwbwidgets) (1.5.2)\n",
            "Requirement already satisfied: scipy<2,>=1.1 in /usr/local/lib/python3.7/dist-packages (from hdmf<4,>=3.1.1->pynwb->nwbwidgets) (1.4.1)\n",
            "Requirement already satisfied: ruamel.yaml<1,>=0.16 in /usr/local/lib/python3.7/dist-packages (from hdmf<4,>=3.1.1->pynwb->nwbwidgets) (0.17.17)\n",
            "Requirement already satisfied: pytz>=2017.2 in /usr/local/lib/python3.7/dist-packages (from pandas<2,>=1.0.5->pynwb->nwbwidgets) (2018.9)\n",
            "Requirement already satisfied: ruamel.yaml.clib>=0.1.2 in /usr/local/lib/python3.7/dist-packages (from ruamel.yaml<1,>=0.16->hdmf<4,>=3.1.1->pynwb->nwbwidgets) (0.2.6)\n",
            "Requirement already satisfied: chardet<4,>=3.0.2 in /usr/local/lib/python3.7/dist-packages (from requests->ccfwidget->nwbwidgets) (3.0.4)\n",
            "Requirement already satisfied: urllib3!=1.25.0,!=1.25.1,<1.26,>=1.21.1 in /usr/local/lib/python3.7/dist-packages (from requests->ccfwidget->nwbwidgets) (1.24.3)\n",
            "Requirement already satisfied: certifi>=2017.4.17 in /usr/local/lib/python3.7/dist-packages (from requests->ccfwidget->nwbwidgets) (2021.10.8)\n",
            "Requirement already satisfied: networkx>=2.0 in /usr/local/lib/python3.7/dist-packages (from scikit-image->nwbwidgets) (2.6.3)\n",
            "Requirement already satisfied: imageio>=2.3.0 in /usr/local/lib/python3.7/dist-packages (from scikit-image->nwbwidgets) (2.4.1)\n",
            "Requirement already satisfied: PyWavelets>=1.1.1 in /usr/local/lib/python3.7/dist-packages (from scikit-image->nwbwidgets) (1.2.0)\n",
            "Collecting numcodecs>=0.6.4\n",
            "  Downloading numcodecs-0.9.1-cp37-cp37m-manylinux2010_x86_64.whl (6.2 MB)\n",
            "\u001b[K     |████████████████████████████████| 6.2 MB 11.5 MB/s \n",
            "\u001b[?25hCollecting fasteners\n",
            "  Downloading fasteners-0.16.3-py2.py3-none-any.whl (28 kB)\n",
            "Collecting asciitree\n",
            "  Downloading asciitree-0.3.3.tar.gz (4.0 kB)\n",
            "Building wheels for collected packages: asciitree\n",
            "  Building wheel for asciitree (setup.py) ... \u001b[?25l\u001b[?25hdone\n",
            "  Created wheel for asciitree: filename=asciitree-0.3.3-py3-none-any.whl size=5051 sha256=7b60ef00f0473a6963746f2953ebf96e64e3319fbe72f1e91b678db73865601e\n",
            "  Stored in directory: /root/.cache/pip/wheels/12/1c/38/0def51e15add93bff3f4bf9c248b94db0839b980b8535e72a0\n",
            "Successfully built asciitree\n",
            "Installing collected packages: tornado, jupyter-client, itk-core, traittypes, sniffio, itk-numerics, zstandard, websocket-client, numcodecs, itk-meshtopolydata, itk-filtering, ipympl, ipydatawidgets, fasteners, asciitree, anyio, zarr, pythreejs, jupyter-server, itkwidgets, ipywebrtc, ipytree, fsspec, trimesh, ndx-spectrum, ndx-icephys-meta, ndx-grayscalevolume, ipyvolume, ipysheet, ccfwidget, nwbwidgets\n",
            "  Attempting uninstall: tornado\n",
            "    Found existing installation: tornado 5.1.1\n",
            "    Uninstalling tornado-5.1.1:\n",
            "      Successfully uninstalled tornado-5.1.1\n",
            "  Attempting uninstall: jupyter-client\n",
            "    Found existing installation: jupyter-client 5.3.5\n",
            "    Uninstalling jupyter-client-5.3.5:\n",
            "      Successfully uninstalled jupyter-client-5.3.5\n",
            "\u001b[31mERROR: pip's dependency resolver does not currently take into account all the packages that are installed. This behaviour is the source of the following dependency conflicts.\n",
            "google-colab 1.0.0 requires tornado~=5.1.0; python_version >= \"3.0\", but you have tornado 6.1 which is incompatible.\u001b[0m\n",
            "Successfully installed anyio-3.4.0 asciitree-0.3.3 ccfwidget-0.5.3 fasteners-0.16.3 fsspec-2021.11.1 ipydatawidgets-4.2.0 ipympl-0.8.2 ipysheet-0.5.0 ipytree-0.2.1 ipyvolume-0.5.2 ipywebrtc-0.6.0 itk-core-5.2.1.post1 itk-filtering-5.2.1.post1 itk-meshtopolydata-0.7.1 itk-numerics-5.2.1.post1 itkwidgets-0.32.1 jupyter-client-7.1.0 jupyter-server-1.12.1 ndx-grayscalevolume-0.0.2 ndx-icephys-meta-0.1.0 ndx-spectrum-0.2.2 numcodecs-0.9.1 nwbwidgets-0.8.0 pythreejs-2.3.0 sniffio-1.2.0 tornado-6.1 traittypes-0.2.1 trimesh-3.9.35 websocket-client-1.2.1 zarr-2.10.3 zstandard-0.16.0\n"
          ]
        },
        {
          "output_type": "display_data",
          "data": {
            "application/vnd.colab-display-data+json": {
              "pip_warning": {
                "packages": [
                  "jupyter_client",
                  "tornado"
                ]
              }
            }
          },
          "metadata": {}
        }
      ]
    },
    {
      "cell_type": "code",
      "metadata": {
        "id": "8-9n-bBKSn_3"
      },
      "source": [
        "# define functions\n",
        "def load_nwb_file(filename):\n",
        "    directory = '..//test_data//'\n",
        "    read_io = NWBHDF5IO((directory + filename), 'r')\n",
        "    nwbfile_in = read_io.read()\n",
        "\n",
        "    return nwbfile_in"
      ],
      "execution_count": null,
      "outputs": []
    },
    {
      "cell_type": "markdown",
      "metadata": {
        "id": "E1R0s9FCSn_3"
      },
      "source": [
        "## Generate initial NWB file"
      ]
    },
    {
      "cell_type": "code",
      "metadata": {
        "id": "mm_T5vfgSn_4"
      },
      "source": [
        "# generate the main nwb file\n",
        "start_time = datetime.now(tz=tzlocal())\n",
        "create_date = datetime.now(tz=tzlocal())\n",
        "\n",
        "unique_identifier = str(uuid.uuid4())\n",
        "\n",
        "hdmf_ver = 'v%s'%hdmf._version.get_versions()['version']\n",
        "info = 'An example NWB file created with pynwb v%s (hdmf %s), Python v%s'%(pynwb.__version__,hdmf_ver,platform.python_version())\n",
        "\n",
        "nwbfile_out = pynwb.NWBFile(session_description='Example with various datatypes for testing plotting functionality',\n",
        "                        identifier=unique_identifier,\n",
        "                        session_start_time=start_time,\n",
        "                        file_create_date=create_date,\n",
        "                        notes=info,\n",
        "                        experimenter='No one',\n",
        "                        experiment_description='We used a python script to synthesize this data.',\n",
        "                        institution='Institute X',\n",
        "                        lab='No Lab.')"
      ],
      "execution_count": null,
      "outputs": []
    },
    {
      "cell_type": "markdown",
      "metadata": {
        "id": "5VglH-5eSn_5"
      },
      "source": [
        "## Add example data modules\n",
        "### Multi-dimensional time series data + two photon image series"
      ]
    },
    {
      "cell_type": "code",
      "metadata": {
        "id": "TnWgn9ZoSn_6",
        "colab": {
          "base_uri": "https://localhost:8080/",
          "height": 381
        },
        "outputId": "67aa5468-f405-4c9a-e5fa-b96096853a3d"
      },
      "source": [
        "# load test file \n",
        "time_series_multi_dim_fname = 'sub-661968859_ses-681698752_behavior+ophys.nwb'\n",
        "nwbfile_in = load_nwb_file(time_series_multi_dim_fname)\n",
        "proc_example = nwbfile_in.processing['brain_observatory_pipeline']\n",
        "\n",
        "#create device, imaging plan, optical channel used\n",
        "device = pynwb.file.Device('CAM2P_1')\n",
        "nwbfile_out.add_device(device)\n",
        "optical_channel = OpticalChannel('optchan', 'description', 480.)\n",
        "imaging_plane = nwbfile_out.create_imaging_plane('imaging_plane_1', optical_channel,\n",
        "                                             description='imaging_plane_1',\n",
        "                                             device=device, excitation_lambda=910.,\n",
        "                                             imaging_rate=30., indicator='GCaMP6f',\n",
        "                                             location='PFC', reference_frame='home')\n",
        "\n",
        "#make imaging series \n",
        "two_p_example = proc_example['max_project'].data[:,:,:]\n",
        "image_series = TwoPhotonSeries(name='image_series', \n",
        "                               dimension=[2], \n",
        "                               data = two_p_example,                                 # TO DO - add synthetic data here\n",
        "                               imaging_plane=imaging_plane,\n",
        "                               starting_frame=[0], \n",
        "                               starting_time=0.0, rate=1.0,\n",
        "                               unit='seconds')\n",
        "nwbfile_out.add_acquisition(image_series)\n",
        "\n",
        "\n",
        "# store image segmentation output\n",
        "mod = nwbfile_out.create_processing_module('ophys', 'contains optical physiology processed data')\n",
        "img_seg = ImageSegmentation()\n",
        "mod.add(img_seg)\n",
        "ps = img_seg.create_plane_segmentation('output from image plane', imaging_plane, 'my_planeseg', image_series)\n",
        "\n",
        "#add image mask\n",
        "mask_example = proc_example['ImageSegmentation']['PlaneSegmentation'].image_mask     # TO DO - add synthetic data here\n",
        "ps.add_roi(image_mask=mask_example[0])\n",
        "ps.add_roi(image_mask=mask_example[1])\n",
        "\n",
        "#add fluorescence and roi response - TO DO - add synthetic data here \n",
        "data_example = proc_example['Fluorescence']['DfOverF'].data[:,:2]                    # TO DO - add synthetic data here\n",
        "timestamps_example = proc_example['Fluorescence']['DfOverF'].timestamps[:]\n",
        "\n",
        "fl = Fluorescence()\n",
        "mod.add(fl)\n",
        "rt_region = ps.create_roi_table_region('the first of two ROIs', region=[0,1])\n",
        "rrs = fl.create_roi_response_series('DfOverF', data_example, rt_region, unit='lumens', timestamps=timestamps_example)"
      ],
      "execution_count": null,
      "outputs": [
        {
          "output_type": "error",
          "ename": "UnsupportedOperation",
          "evalue": "ignored",
          "traceback": [
            "\u001b[0;31m---------------------------------------------------------------------------\u001b[0m",
            "\u001b[0;31mUnsupportedOperation\u001b[0m                      Traceback (most recent call last)",
            "\u001b[0;32m<ipython-input-7-fceec3041f7c>\u001b[0m in \u001b[0;36m<module>\u001b[0;34m()\u001b[0m\n\u001b[1;32m      1\u001b[0m \u001b[0;31m# load test file\u001b[0m\u001b[0;34m\u001b[0m\u001b[0;34m\u001b[0m\u001b[0;34m\u001b[0m\u001b[0m\n\u001b[1;32m      2\u001b[0m \u001b[0mtime_series_multi_dim_fname\u001b[0m \u001b[0;34m=\u001b[0m \u001b[0;34m'sub-661968859_ses-681698752_behavior+ophys.nwb'\u001b[0m\u001b[0;34m\u001b[0m\u001b[0;34m\u001b[0m\u001b[0m\n\u001b[0;32m----> 3\u001b[0;31m \u001b[0mnwbfile_in\u001b[0m \u001b[0;34m=\u001b[0m \u001b[0mload_nwb_file\u001b[0m\u001b[0;34m(\u001b[0m\u001b[0mtime_series_multi_dim_fname\u001b[0m\u001b[0;34m)\u001b[0m\u001b[0;34m\u001b[0m\u001b[0;34m\u001b[0m\u001b[0m\n\u001b[0m\u001b[1;32m      4\u001b[0m \u001b[0mproc_example\u001b[0m \u001b[0;34m=\u001b[0m \u001b[0mnwbfile_in\u001b[0m\u001b[0;34m.\u001b[0m\u001b[0mprocessing\u001b[0m\u001b[0;34m[\u001b[0m\u001b[0;34m'brain_observatory_pipeline'\u001b[0m\u001b[0;34m]\u001b[0m\u001b[0;34m\u001b[0m\u001b[0;34m\u001b[0m\u001b[0m\n\u001b[1;32m      5\u001b[0m \u001b[0;34m\u001b[0m\u001b[0m\n",
            "\u001b[0;32m<ipython-input-5-c2163ca0e5c6>\u001b[0m in \u001b[0;36mload_nwb_file\u001b[0;34m(filename)\u001b[0m\n\u001b[1;32m      2\u001b[0m \u001b[0;32mdef\u001b[0m \u001b[0mload_nwb_file\u001b[0m\u001b[0;34m(\u001b[0m\u001b[0mfilename\u001b[0m\u001b[0;34m)\u001b[0m\u001b[0;34m:\u001b[0m\u001b[0;34m\u001b[0m\u001b[0;34m\u001b[0m\u001b[0m\n\u001b[1;32m      3\u001b[0m     \u001b[0mdirectory\u001b[0m \u001b[0;34m=\u001b[0m \u001b[0;34m'..//test_data//'\u001b[0m\u001b[0;34m\u001b[0m\u001b[0;34m\u001b[0m\u001b[0m\n\u001b[0;32m----> 4\u001b[0;31m     \u001b[0mread_io\u001b[0m \u001b[0;34m=\u001b[0m \u001b[0mNWBHDF5IO\u001b[0m\u001b[0;34m(\u001b[0m\u001b[0;34m(\u001b[0m\u001b[0mdirectory\u001b[0m \u001b[0;34m+\u001b[0m \u001b[0mfilename\u001b[0m\u001b[0;34m)\u001b[0m\u001b[0;34m,\u001b[0m \u001b[0;34m'r'\u001b[0m\u001b[0;34m)\u001b[0m\u001b[0;34m\u001b[0m\u001b[0;34m\u001b[0m\u001b[0m\n\u001b[0m\u001b[1;32m      5\u001b[0m     \u001b[0mnwbfile_in\u001b[0m \u001b[0;34m=\u001b[0m \u001b[0mread_io\u001b[0m\u001b[0;34m.\u001b[0m\u001b[0mread\u001b[0m\u001b[0;34m(\u001b[0m\u001b[0;34m)\u001b[0m\u001b[0;34m\u001b[0m\u001b[0;34m\u001b[0m\u001b[0m\n\u001b[1;32m      6\u001b[0m \u001b[0;34m\u001b[0m\u001b[0m\n",
            "\u001b[0;32m/usr/local/lib/python3.7/dist-packages/hdmf/utils.py\u001b[0m in \u001b[0;36mfunc_call\u001b[0;34m(*args, **kwargs)\u001b[0m\n\u001b[1;32m    581\u001b[0m             \u001b[0;32mdef\u001b[0m \u001b[0mfunc_call\u001b[0m\u001b[0;34m(\u001b[0m\u001b[0;34m*\u001b[0m\u001b[0margs\u001b[0m\u001b[0;34m,\u001b[0m \u001b[0;34m**\u001b[0m\u001b[0mkwargs\u001b[0m\u001b[0;34m)\u001b[0m\u001b[0;34m:\u001b[0m\u001b[0;34m\u001b[0m\u001b[0;34m\u001b[0m\u001b[0m\n\u001b[1;32m    582\u001b[0m                 \u001b[0mpargs\u001b[0m \u001b[0;34m=\u001b[0m \u001b[0m_check_args\u001b[0m\u001b[0;34m(\u001b[0m\u001b[0margs\u001b[0m\u001b[0;34m,\u001b[0m \u001b[0mkwargs\u001b[0m\u001b[0;34m)\u001b[0m\u001b[0;34m\u001b[0m\u001b[0;34m\u001b[0m\u001b[0m\n\u001b[0;32m--> 583\u001b[0;31m                 \u001b[0;32mreturn\u001b[0m \u001b[0mfunc\u001b[0m\u001b[0;34m(\u001b[0m\u001b[0margs\u001b[0m\u001b[0;34m[\u001b[0m\u001b[0;36m0\u001b[0m\u001b[0;34m]\u001b[0m\u001b[0;34m,\u001b[0m \u001b[0;34m**\u001b[0m\u001b[0mpargs\u001b[0m\u001b[0;34m)\u001b[0m\u001b[0;34m\u001b[0m\u001b[0;34m\u001b[0m\u001b[0m\n\u001b[0m\u001b[1;32m    584\u001b[0m         \u001b[0;32melse\u001b[0m\u001b[0;34m:\u001b[0m\u001b[0;34m\u001b[0m\u001b[0;34m\u001b[0m\u001b[0m\n\u001b[1;32m    585\u001b[0m             \u001b[0;32mdef\u001b[0m \u001b[0mfunc_call\u001b[0m\u001b[0;34m(\u001b[0m\u001b[0;34m*\u001b[0m\u001b[0margs\u001b[0m\u001b[0;34m,\u001b[0m \u001b[0;34m**\u001b[0m\u001b[0mkwargs\u001b[0m\u001b[0;34m)\u001b[0m\u001b[0;34m:\u001b[0m\u001b[0;34m\u001b[0m\u001b[0;34m\u001b[0m\u001b[0m\n",
            "\u001b[0;32m/usr/local/lib/python3.7/dist-packages/pynwb/__init__.py\u001b[0m in \u001b[0;36m__init__\u001b[0;34m(self, **kwargs)\u001b[0m\n\u001b[1;32m    244\u001b[0m             \u001b[0;32melif\u001b[0m \u001b[0mmanager\u001b[0m \u001b[0;32mis\u001b[0m \u001b[0;32mNone\u001b[0m\u001b[0;34m:\u001b[0m\u001b[0;34m\u001b[0m\u001b[0;34m\u001b[0m\u001b[0m\n\u001b[1;32m    245\u001b[0m                 \u001b[0mmanager\u001b[0m \u001b[0;34m=\u001b[0m \u001b[0mget_manager\u001b[0m\u001b[0;34m(\u001b[0m\u001b[0;34m)\u001b[0m\u001b[0;34m\u001b[0m\u001b[0;34m\u001b[0m\u001b[0m\n\u001b[0;32m--> 246\u001b[0;31m         \u001b[0msuper\u001b[0m\u001b[0;34m(\u001b[0m\u001b[0mNWBHDF5IO\u001b[0m\u001b[0;34m,\u001b[0m \u001b[0mself\u001b[0m\u001b[0;34m)\u001b[0m\u001b[0;34m.\u001b[0m\u001b[0m__init__\u001b[0m\u001b[0;34m(\u001b[0m\u001b[0mpath\u001b[0m\u001b[0;34m,\u001b[0m \u001b[0mmanager\u001b[0m\u001b[0;34m=\u001b[0m\u001b[0mmanager\u001b[0m\u001b[0;34m,\u001b[0m \u001b[0mmode\u001b[0m\u001b[0;34m=\u001b[0m\u001b[0mmode\u001b[0m\u001b[0;34m,\u001b[0m \u001b[0mfile\u001b[0m\u001b[0;34m=\u001b[0m\u001b[0mfile_obj\u001b[0m\u001b[0;34m,\u001b[0m \u001b[0mcomm\u001b[0m\u001b[0;34m=\u001b[0m\u001b[0mcomm\u001b[0m\u001b[0;34m,\u001b[0m \u001b[0mdriver\u001b[0m\u001b[0;34m=\u001b[0m\u001b[0mdriver\u001b[0m\u001b[0;34m)\u001b[0m\u001b[0;34m\u001b[0m\u001b[0;34m\u001b[0m\u001b[0m\n\u001b[0m\u001b[1;32m    247\u001b[0m \u001b[0;34m\u001b[0m\u001b[0m\n\u001b[1;32m    248\u001b[0m     @docval({'name': 'src_io', 'type': HDMFIO, 'doc': 'the HDMFIO object for reading the data to export'},\n",
            "\u001b[0;32m/usr/local/lib/python3.7/dist-packages/hdmf/utils.py\u001b[0m in \u001b[0;36mfunc_call\u001b[0;34m(*args, **kwargs)\u001b[0m\n\u001b[1;32m    581\u001b[0m             \u001b[0;32mdef\u001b[0m \u001b[0mfunc_call\u001b[0m\u001b[0;34m(\u001b[0m\u001b[0;34m*\u001b[0m\u001b[0margs\u001b[0m\u001b[0;34m,\u001b[0m \u001b[0;34m**\u001b[0m\u001b[0mkwargs\u001b[0m\u001b[0;34m)\u001b[0m\u001b[0;34m:\u001b[0m\u001b[0;34m\u001b[0m\u001b[0;34m\u001b[0m\u001b[0m\n\u001b[1;32m    582\u001b[0m                 \u001b[0mpargs\u001b[0m \u001b[0;34m=\u001b[0m \u001b[0m_check_args\u001b[0m\u001b[0;34m(\u001b[0m\u001b[0margs\u001b[0m\u001b[0;34m,\u001b[0m \u001b[0mkwargs\u001b[0m\u001b[0;34m)\u001b[0m\u001b[0;34m\u001b[0m\u001b[0;34m\u001b[0m\u001b[0m\n\u001b[0;32m--> 583\u001b[0;31m                 \u001b[0;32mreturn\u001b[0m \u001b[0mfunc\u001b[0m\u001b[0;34m(\u001b[0m\u001b[0margs\u001b[0m\u001b[0;34m[\u001b[0m\u001b[0;36m0\u001b[0m\u001b[0;34m]\u001b[0m\u001b[0;34m,\u001b[0m \u001b[0;34m**\u001b[0m\u001b[0mpargs\u001b[0m\u001b[0;34m)\u001b[0m\u001b[0;34m\u001b[0m\u001b[0;34m\u001b[0m\u001b[0m\n\u001b[0m\u001b[1;32m    584\u001b[0m         \u001b[0;32melse\u001b[0m\u001b[0;34m:\u001b[0m\u001b[0;34m\u001b[0m\u001b[0;34m\u001b[0m\u001b[0m\n\u001b[1;32m    585\u001b[0m             \u001b[0;32mdef\u001b[0m \u001b[0mfunc_call\u001b[0m\u001b[0;34m(\u001b[0m\u001b[0;34m*\u001b[0m\u001b[0margs\u001b[0m\u001b[0;34m,\u001b[0m \u001b[0;34m**\u001b[0m\u001b[0mkwargs\u001b[0m\u001b[0;34m)\u001b[0m\u001b[0;34m:\u001b[0m\u001b[0;34m\u001b[0m\u001b[0;34m\u001b[0m\u001b[0m\n",
            "\u001b[0;32m/usr/local/lib/python3.7/dist-packages/hdmf/backends/hdf5/h5tools.py\u001b[0m in \u001b[0;36m__init__\u001b[0;34m(self, **kwargs)\u001b[0m\n\u001b[1;32m     63\u001b[0m         \u001b[0;32mif\u001b[0m \u001b[0mfile_obj\u001b[0m \u001b[0;32mis\u001b[0m \u001b[0;32mNone\u001b[0m \u001b[0;32mand\u001b[0m \u001b[0;32mnot\u001b[0m \u001b[0mos\u001b[0m\u001b[0;34m.\u001b[0m\u001b[0mpath\u001b[0m\u001b[0;34m.\u001b[0m\u001b[0mexists\u001b[0m\u001b[0;34m(\u001b[0m\u001b[0mpath\u001b[0m\u001b[0;34m)\u001b[0m \u001b[0;32mand\u001b[0m \u001b[0;34m(\u001b[0m\u001b[0mmode\u001b[0m \u001b[0;34m==\u001b[0m \u001b[0;34m'r'\u001b[0m \u001b[0;32mor\u001b[0m \u001b[0mmode\u001b[0m \u001b[0;34m==\u001b[0m \u001b[0;34m'r+'\u001b[0m\u001b[0;34m)\u001b[0m \u001b[0;32mand\u001b[0m \u001b[0mdriver\u001b[0m \u001b[0;34m!=\u001b[0m \u001b[0;34m'ros3'\u001b[0m\u001b[0;34m:\u001b[0m\u001b[0;34m\u001b[0m\u001b[0;34m\u001b[0m\u001b[0m\n\u001b[1;32m     64\u001b[0m             \u001b[0mmsg\u001b[0m \u001b[0;34m=\u001b[0m \u001b[0;34m\"Unable to open file %s in '%s' mode. File does not exist.\"\u001b[0m \u001b[0;34m%\u001b[0m \u001b[0;34m(\u001b[0m\u001b[0mpath\u001b[0m\u001b[0;34m,\u001b[0m \u001b[0mmode\u001b[0m\u001b[0;34m)\u001b[0m\u001b[0;34m\u001b[0m\u001b[0;34m\u001b[0m\u001b[0m\n\u001b[0;32m---> 65\u001b[0;31m             \u001b[0;32mraise\u001b[0m \u001b[0mUnsupportedOperation\u001b[0m\u001b[0;34m(\u001b[0m\u001b[0mmsg\u001b[0m\u001b[0;34m)\u001b[0m\u001b[0;34m\u001b[0m\u001b[0;34m\u001b[0m\u001b[0m\n\u001b[0m\u001b[1;32m     66\u001b[0m \u001b[0;34m\u001b[0m\u001b[0m\n\u001b[1;32m     67\u001b[0m         \u001b[0;32mif\u001b[0m \u001b[0mfile_obj\u001b[0m \u001b[0;32mis\u001b[0m \u001b[0;32mNone\u001b[0m \u001b[0;32mand\u001b[0m \u001b[0mos\u001b[0m\u001b[0;34m.\u001b[0m\u001b[0mpath\u001b[0m\u001b[0;34m.\u001b[0m\u001b[0mexists\u001b[0m\u001b[0;34m(\u001b[0m\u001b[0mpath\u001b[0m\u001b[0;34m)\u001b[0m \u001b[0;32mand\u001b[0m \u001b[0;34m(\u001b[0m\u001b[0mmode\u001b[0m \u001b[0;34m==\u001b[0m \u001b[0;34m'w-'\u001b[0m \u001b[0;32mor\u001b[0m \u001b[0mmode\u001b[0m \u001b[0;34m==\u001b[0m \u001b[0;34m'x'\u001b[0m\u001b[0;34m)\u001b[0m\u001b[0;34m:\u001b[0m\u001b[0;34m\u001b[0m\u001b[0;34m\u001b[0m\u001b[0m\n",
            "\u001b[0;31mUnsupportedOperation\u001b[0m: Unable to open file ..//test_data//sub-661968859_ses-681698752_behavior+ophys.nwb in 'r' mode. File does not exist."
          ]
        }
      ]
    },
    {
      "cell_type": "markdown",
      "metadata": {
        "id": "z47XTfY_Sn_7"
      },
      "source": [
        "### Behavioral events time series + trials table"
      ]
    },
    {
      "cell_type": "code",
      "metadata": {
        "id": "eHCbfoprSn_8"
      },
      "source": [
        "# behavioral events time series\n",
        "behavior_events_markers_fname = 'sub-anm369962_ses-20170309.nwb'\n",
        "nwbfile_in = load_nwb_file(behavior_events_markers_fname)\n",
        "\n",
        "lick_data_example = nwbfile_in.acquisition['lick_times'].time_series['lick_left_times'].data[:] \n",
        "lick_timestamps_example = nwbfile_in.acquisition['lick_times'].time_series['lick_left_times'].timestamps[:]\n",
        "\n",
        "ts = TimeSeries(name='lick_left_times',\n",
        "                data=lick_data_example,                                              # TO DO - add synthetic data here\n",
        "                timestamps=lick_timestamps_example,\n",
        "                unit='a.u.')\n",
        "lick_times = pynwb.behavior.BehavioralEvents(name='lick_times', time_series=ts)\n",
        "\n",
        "nwbfile_out.add_acquisition(lick_times)"
      ],
      "execution_count": null,
      "outputs": []
    },
    {
      "cell_type": "code",
      "metadata": {
        "id": "Eb2akQGqSn_9"
      },
      "source": [
        "# add trials table\n",
        "trials_example = nwbfile_in.trials[:]\n",
        "\n",
        "for index, data in trials_example.iterrows():\n",
        "    nwbfile_out.add_trial(start_time=data.start_time, stop_time=data.stop_time)      # TO DO - add synthetic data here\n",
        "\n",
        "for col_name, col_data in trials_example.iteritems():\n",
        "    if col_name not in nwbfile_out.trials.colnames:\n",
        "        nwbfile_out.add_trial_column(name=col_name, description='',data=col_data.to_list())   "
      ],
      "execution_count": null,
      "outputs": []
    },
    {
      "cell_type": "markdown",
      "metadata": {
        "id": "gyfUdmk8Sn_9"
      },
      "source": [
        "### Spatial series"
      ]
    },
    {
      "cell_type": "code",
      "metadata": {
        "id": "cIVDc98kSn_-"
      },
      "source": [
        "# spatial series with x vs. y instead of data vs. timestamps\n",
        "N = 2001\n",
        "timestamps = np.linspace(0, N, N) #np.arange(N)\n",
        "ss1 = pynwb.behavior.SpatialSeries(name='spatial_series_1D',\n",
        "                                   reference_frame='Zero is origin..?',\n",
        "                                   data=np.cos(timestamps/4),\n",
        "                                   timestamps=timestamps,\n",
        "                                   comments='A wave...',\n",
        "                                   description='Description of this...')\n",
        "\n",
        "nwbfile_out.add_acquisition(ss1)\n",
        "\n",
        "x = np.cos(timestamps/4)\n",
        "y = np.sin(timestamps/5)\n",
        "ss2 = pynwb.behavior.SpatialSeries(name='spatial_series_2D',\n",
        "                                   reference_frame='Zero is origin..?',\n",
        "                                   data=np.array([x,y]).T,\n",
        "                                   timestamps=timestamps,\n",
        "                                   comments='A wave...',\n",
        "                                   description='Description of this...')\n",
        "\n",
        "nwbfile_out.add_acquisition(ss2)"
      ],
      "execution_count": null,
      "outputs": []
    },
    {
      "cell_type": "markdown",
      "metadata": {
        "id": "9Oi5ecfQSn_-"
      },
      "source": [
        "### Stimulus image series data"
      ]
    },
    {
      "cell_type": "code",
      "metadata": {
        "id": "_zWDfzapSn__"
      },
      "source": [
        "#optical series\n",
        "imaging_series_fname = 'sub-P10HMH_ses-20060901_ecephys+image.nwb'\n",
        "nwbfile_in = load_nwb_file(imaging_series_fname)\n",
        "\n",
        "optical_series_example = nwbfile_in.stimulus['StimulusPresentation'].data[:,:,:,:]   # TO DO - add synthetic data here\n",
        "timestamps_example=nwbfile_in.stimulus['StimulusPresentation'].timestamps[:]\n",
        "\n",
        "os = pynwb.image.OpticalSeries(name='StimulusPresentation',\n",
        "                               data=optical_series_example,\n",
        "                               timestamps=timestamps_example,\n",
        "                               distance=0.5,\n",
        "                               field_of_view=[0.2,0.3,0.5],\n",
        "                               orientation='lower left',\n",
        "                               unit='meters')\n",
        "nwbfile_out.add_stimulus(os)"
      ],
      "execution_count": null,
      "outputs": []
    },
    {
      "cell_type": "markdown",
      "metadata": {
        "id": "ngoPUZLjSn__"
      },
      "source": [
        "### Time stamps alignment"
      ]
    },
    {
      "cell_type": "code",
      "metadata": {
        "id": "yP_WhuJtSn__"
      },
      "source": [
        "# time stamps with whole session vs. all aligned to one location\n",
        "time_stamps_aligned_fname = '10_03_19-1.nwb'\n",
        "nwbfile_in = load_nwb_file(time_stamps_aligned_fname)\n",
        "\n",
        "# add stimulus\n",
        "vcss_example_1 = nwbfile_in.stimulus['index_000'].data[:]                             #TO DO - add synthetic data here\n",
        "vcss_start_1 = nwbfile_in.stimulus['index_000'].starting_time\n",
        "vcss_example_2 = nwbfile_in.stimulus['index_001'].data[:]\n",
        "vcss_start_2 = nwbfile_in.stimulus['index_001'].starting_time\n",
        "\n",
        "# add acquisition\n",
        "vcs_example_1 = nwbfile_in.acquisition['index_000'].data[:]\n",
        "vcs_start_1 = nwbfile_in.acquisition['index_000'].starting_time\n",
        "vcs_example_2 = nwbfile_in.acquisition['index_001'].data[:]\n",
        "vcs_start_2 = nwbfile_in.acquisition['index_001'].starting_time\n",
        "\n",
        "# add devices and electrodes\n",
        "device = nwbfile_out.create_device(name='Heka EPC10')\n",
        "elec = nwbfile_out.create_icephys_electrode(name=\"elec0\",\n",
        "                                        description='an intracellular electrode',\n",
        "                                        device=device)\n",
        "\n",
        "# add vclamp stimulus series\n",
        "vcss1 = pynwb.icephys.VoltageClampStimulusSeries(name=\"vclamp_stim_series1\",\n",
        "                                        data=vcss_example_1,\n",
        "                                        starting_time=vcss_start_1,\n",
        "                                        rate=10000.0,\n",
        "                                        electrode=elec,\n",
        "                                        gain=1.)\n",
        "vcss2 = pynwb.icephys.VoltageClampStimulusSeries(name=\"vclamp_stim_series2\",\n",
        "                                        data=vcss_example_2,\n",
        "                                        starting_time=vcss_start_2,\n",
        "                                        rate=10000.0,\n",
        "                                        electrode=elec,\n",
        "                                        gain=1.)\n",
        "# add vclamp seriess\n",
        "vcs1 = pynwb.icephys.VoltageClampSeries(name=\"vclamp_series1\",\n",
        "                                        data=vcs_example_1,\n",
        "                                        starting_time=vcs_start_1,\n",
        "                                        rate=10000.0,\n",
        "                                        electrode=elec,\n",
        "                                        gain=100000000.0)\n",
        "vcs2 = pynwb.icephys.VoltageClampSeries(name=\"vclamp_series2\",\n",
        "                                        data=vcs_example_2,\n",
        "                                        starting_time=vcs_start_2,\n",
        "                                        rate=10000.0,\n",
        "                                        electrode=elec,\n",
        "                                        gain=100000000.0)\n",
        "\n",
        "nwbfile_out.add_stimulus(vcss1)\n",
        "nwbfile_out.add_stimulus(vcss2)\n",
        "nwbfile_out.add_acquisition(vcs1)\n",
        "nwbfile_out.add_acquisition(vcs2)"
      ],
      "execution_count": null,
      "outputs": []
    },
    {
      "cell_type": "markdown",
      "metadata": {
        "id": "3i8n_Z39Sn__"
      },
      "source": [
        "### Single units"
      ]
    },
    {
      "cell_type": "code",
      "metadata": {
        "id": "9vkX2OjaSoAA"
      },
      "source": [
        "#single unit raster plots\n",
        "single_units_fname = 'sub-anm184389_ses-20130207_behavior+ecephys.nwb'\n",
        "nwbfile_in = load_nwb_file(single_units_fname)\n",
        "\n",
        "#add electrodes info\n",
        "device = nwbfile_out.create_device(name='Neuronexus_32chan')\n",
        "electrode_name = 'Neuronexus1'\n",
        "description = \"an example probe\"\n",
        "location = \"somewhere in the hippocampus\"\n",
        "electrode_group = nwbfile_out.create_electrode_group(electrode_name,\n",
        "                                                 description=description,\n",
        "                                                 location=location,\n",
        "                                                 device=device)\n",
        "\n",
        "electrode_example = nwbfile_in.electrodes[:]\n",
        "for idx, elec in electrode_example.iterrows():\n",
        "    nwbfile_out.add_electrode(id=idx,                                                #TO DO - add synthetic data here\n",
        "                          x=elec.x, y=elec.y, z=elec.z,\n",
        "                          imp=elec.imp,\n",
        "                          location='CA1', filtering='none',\n",
        "                          group=electrode_group)\n",
        "\n",
        "# add single units info\n",
        "units_example = nwbfile_in.units[:]\n",
        "for idx, unit in units_example.iterrows():\n",
        "    nwbfile_out.add_unit(id=idx,                                                     #TO DO - add synthetic data here\n",
        "                     spike_times=unit.spike_times,\n",
        "                     waveform_mean=unit.waveform_mean,\n",
        "                     waveform_sd = unit.waveform_sd)"
      ],
      "execution_count": null,
      "outputs": []
    },
    {
      "cell_type": "markdown",
      "metadata": {
        "id": "awj3ekKpSoAA"
      },
      "source": [
        "### Save the data file"
      ]
    },
    {
      "cell_type": "code",
      "metadata": {
        "id": "pfDZ4STdSoAA",
        "outputId": "383e10d5-78b3-47d8-f022-3bcbc470cbc5"
      },
      "source": [
        "with NWBHDF5IO('..//test_data//test-plotting-datatypes.nwb', 'w') as export_io:\n",
        "    export_io.write(nwbfile_out)"
      ],
      "execution_count": null,
      "outputs": [
        {
          "name": "stderr",
          "output_type": "stream",
          "text": [
            "/Users/stephanieprince/opt/anaconda3/envs/gsoc-project/lib/python3.8/site-packages/hdmf/build/objectmapper.py:233: DtypeConversionWarning: Spec 'TimeSeries/timestamps': Value with data type float64 is being converted to data type float64 as specified.\n",
            "  warnings.warn(full_warning_msg, DtypeConversionWarning)\n",
            "/Users/stephanieprince/opt/anaconda3/envs/gsoc-project/lib/python3.8/site-packages/hdmf/build/objectmapper.py:233: DtypeConversionWarning: Spec 'RoiResponseSeries/timestamps': Value with data type float64 is being converted to data type float64 as specified.\n",
            "  warnings.warn(full_warning_msg, DtypeConversionWarning)\n",
            "/Users/stephanieprince/opt/anaconda3/envs/gsoc-project/lib/python3.8/site-packages/hdmf/build/objectmapper.py:233: DtypeConversionWarning: Spec 'OpticalSeries/timestamps': Value with data type float64 is being converted to data type float64 as specified.\n",
            "  warnings.warn(full_warning_msg, DtypeConversionWarning)\n",
            "/Users/stephanieprince/opt/anaconda3/envs/gsoc-project/lib/python3.8/site-packages/hdmf/build/objectmapper.py:233: DtypeConversionWarning: Spec 'Units/waveform_mean': Value with data type float32 is being converted to data type float32 as specified.\n",
            "  warnings.warn(full_warning_msg, DtypeConversionWarning)\n",
            "/Users/stephanieprince/opt/anaconda3/envs/gsoc-project/lib/python3.8/site-packages/hdmf/build/objectmapper.py:233: DtypeConversionWarning: Spec 'Units/waveform_sd': Value with data type float32 is being converted to data type float32 as specified.\n",
            "  warnings.warn(full_warning_msg, DtypeConversionWarning)\n"
          ]
        }
      ]
    },
    {
      "cell_type": "markdown",
      "metadata": {
        "id": "Xl1bEDr2SoAB"
      },
      "source": [
        "### Inspect the output file with NWB widget"
      ]
    },
    {
      "cell_type": "code",
      "metadata": {
        "scrolled": true,
        "id": "7E260nuuSoAB"
      },
      "source": [
        "nwbfile_out = load_nwb_file('..//test_data//test_plotting_datatypes.nwb')\n",
        "nwb2widget(nwbfile_out)"
      ],
      "execution_count": null,
      "outputs": []
    },
    {
      "cell_type": "code",
      "metadata": {
        "id": "aNYPtx_SSoAB"
      },
      "source": [
        ""
      ],
      "execution_count": null,
      "outputs": []
    }
  ]
}